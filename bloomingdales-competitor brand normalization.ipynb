{
 "cells": [
  {
   "cell_type": "code",
   "execution_count": null,
   "id": "a3816fa1",
   "metadata": {},
   "outputs": [],
   "source": [
    "import pandas as pd\n",
    "import numpy as np"
   ]
  },
  {
   "cell_type": "code",
   "execution_count": null,
   "id": "3933198d",
   "metadata": {},
   "outputs": [],
   "source": [
    "df = pd.read_excel(r'C:\\Users\\Stukova_a\\Documents\\bloomingdales.xlsx')\n",
    "print(df.head())"
   ]
  },
  {
   "cell_type": "code",
   "execution_count": null,
   "id": "95d034de",
   "metadata": {},
   "outputs": [],
   "source": [
    "df"
   ]
  },
  {
   "cell_type": "code",
   "execution_count": null,
   "id": "67f1668b",
   "metadata": {},
   "outputs": [],
   "source": [
    "# Читаем и обрабатываем датафрейм\n",
    "# Читаем и обрабатываем датафрейм\n",
    "#df = df.drop(['marketCollected'] + [col for col in df.columns if 'Пусто' in col], axis=1)\n",
    "#df.drop(['marketCollected'] + [col for col in df.columns if 'Пусто' in col], axis=1)\n",
    "\n",
    "# Удаляем пробелы\n",
    "df = df.apply(lambda x: x.str.strip() if x.dtype == \"object\" else x)\n",
    "\n",
    "# Удаляем дубликаты\n",
    "df = df.drop_duplicates()\n",
    "\n",
    "print(df.head())"
   ]
  },
  {
   "cell_type": "code",
   "execution_count": null,
   "id": "a933b2c7",
   "metadata": {},
   "outputs": [],
   "source": [
    "# Удаляем дубликаты\n",
    "df = df.drop_duplicates()"
   ]
  },
  {
   "cell_type": "code",
   "execution_count": null,
   "id": "0a4545fb",
   "metadata": {},
   "outputs": [],
   "source": [
    "# Удаляем пробелы и специальные символы\n",
    "df = df.apply(lambda x: x.str.strip().str.replace('¶', ' ') if x.dtype == \"object\" else x)\n"
   ]
  },
  {
   "cell_type": "code",
   "execution_count": null,
   "id": "068c7a18",
   "metadata": {},
   "outputs": [],
   "source": [
    "df"
   ]
  },
  {
   "cell_type": "code",
   "execution_count": null,
   "id": "7cec54b8",
   "metadata": {},
   "outputs": [],
   "source": [
    "df.to_excel(r'C:\\Users\\Stukova_a\\Documents\\cleaned_bloomingdales_data.xlsx', index=False)"
   ]
  },
  {
   "cell_type": "code",
   "execution_count": null,
   "id": "359952f3",
   "metadata": {},
   "outputs": [],
   "source": [
    "#`pythonimport pandas as pd\n",
    "\n",
    "# Load your dataset\n",
    "#file_path = 'your_file_path.csv'  # Replace this with the correct file path\n",
    "\n",
    "# Define the mapping rules\n",
    "mapping_rules = {\n",
    "    \"Парфюмерия\": [\"Fragrance\", \"Women’s Fragrance\", \"Men’s Fragrance\", \"Home Fragrances\", \"Candles & Diffusers\"],\n",
    "    \"Для тела\": [\"Bath & Body\", \"Body & Skincare\", \"Hygiene\", \"Moisturizers & Oils\", \"Bath & Shower\"],\n",
    "    \"Уход за волосами\": [\"Haircare\", \"Hair Care\", \"Shampoo & Conditioner\", \"Hair Treatments\", \"Tools & Accessories\"],\n",
    "    \"Макияж\": [\"Makeup\", \"Face Makeup\", \"Lips\", \"Eyes\", \"Sets & Pallettes\", \"Nails\"],\n",
    "    \"Уход за кожей\": [\"Skincare\", \"Cleansers\", \"Treatments\", \"Moisturizers\", \"Sun\"]\n",
    "}\n",
    "\n",
    "# Create a function to map the categories\n",
    "def map_to_general_category(row):\n",
    "    for general_category, specific_categories in mapping_rules.items():\n",
    "        if any(category in row.values for category in specific_categories):\n",
    "            return general_category\n",
    "    return \"Other\"\n",
    "\n",
    "# Apply the mapping\n",
    "df['General Category'] = df.apply(map_to_general_category, axis=1)\n",
    "\n",
    "# Save the updated dataframe\n",
    "output_path = 'updated_file.csv'\n",
    "df.to_csv(output_path, index=False)\n",
    "\n",
    "print(f\"Updated file saved to {output_path}\")\n",
    "\n",
    "# Фильтруем датафрейм по значению \"Дубай\" в колонке marketRegionId\n",
    "df = df[df['marketRegionId'] == 'Дубай']\n",
    "\n",
    "# Сохраняем результат \n",
    "df.to_excel(r'C:\\Users\\Stukova_a\\Documents\\dubai_bloomingdales_data.xlsx', index=False)\n",
    "#```"
   ]
  },
  {
   "cell_type": "code",
   "execution_count": null,
   "id": "93347262",
   "metadata": {},
   "outputs": [],
   "source": [
    "# Определение правил маппинга\n",
    "mapping_rules = {\n",
    "    \"Парфюмерия\": [\"Fragrance\", \"Women’s Fragrance\", \"Men’s Fragrance\", \"Home Fragrances\", \"Candles & Diffusers\"],\n",
    "    \"Для тела\": [\"Bath & Body\", \"Body & Skincare\", \"Hygiene\", \"Moisturizers & Oils\", \"Bath & Shower\"],\n",
    "    \"Уход за волосами\": [\"Haircare\", \"Hair Care\", \"Shampoo & Conditioner\", \"Hair Treatments\", \"Tools & Accessories\"],\n",
    "    \"Макияж\": [\"Makeup\", \"Face Makeup\", \"Lips\", \"Eyes\", \"Sets & Pallettes\", \"Nails\"],\n",
    "    \"Уход за кожей\": [\"Skincare\", \"Cleansers\", \"Treatments\", \"Moisturizers\", \"Sun\"]\n",
    "}\n",
    "\n",
    "# Функция для заполнения category1\n",
    "def fill_category1(row):\n",
    "    for general_category, specific_categories in mapping_rules.items():\n",
    "        if row['category2 '] in specific_categories or row['category3'] in specific_categories or row['category4'] in specific_categories:\n",
    "            return general_category\n",
    "    return \"Other\"\n",
    "\n",
    "# Применение функции к DataFrame\n",
    "df['category1'] = df.apply(fill_category1, axis=1)\n",
    "df.to_excel(r'C:\\Users\\Stukova_a\\Documents\\updated_categories_bloomingdales_data.xlsx', index=False)"
   ]
  },
  {
   "cell_type": "code",
   "execution_count": null,
   "id": "e1c458ef",
   "metadata": {},
   "outputs": [],
   "source": [
    "df"
   ]
  },
  {
   "cell_type": "code",
   "execution_count": null,
   "id": "27c3f645",
   "metadata": {},
   "outputs": [],
   "source": [
    "print(df.columns)\n"
   ]
  },
  {
   "cell_type": "code",
   "execution_count": null,
   "id": "67807ac2",
   "metadata": {},
   "outputs": [],
   "source": [
    "import pandas as pd\n",
    "\n",
    "# Load your DataFrame\n",
    "# Example: df = pd.read_excel('path_to_your_file.xlsx')\n",
    "\n",
    "# Ensure column names are stripped of leading/trailing spaces\n",
    "df.columns = df.columns.str.strip()\n",
    "\n",
    "# Classification rules\n",
    "mapping_rules = {\n",
    "    \"Парфюмерия\": [\"Fragrance\", \"Women’s Fragrance\", \"Men’s Fragrance\", \"Home Fragrances\"],\n",
    "    \"Для тела\": [\"Bath & Body\", \"Moisturizers & Oils\", \"Bath & Shower\"],\n",
    "    \"Уход за волосами\": [\"Haircare\", \"Shampoo & Conditioner\", \"Treatments\", \"Tools & Accessories\"],\n",
    "    \"Макияж\": [\"Makeup\", \"Eyes\", \"Face Makeup\", \"Lips\", \"Nails\", \"Sets & Palettes\"],\n",
    "    \"Уход за кожей\": [\"Skincare\", \"Treatments\", \"Cleansers\", \"Moisturizers\", \"Sun\"],\n",
    "}\n",
    "\n",
    "# Function to fill category1 based on mapping rules\n",
    "def fill_category1(row):\n",
    "    for general_category, specific_categories in mapping_rules.items():\n",
    "        if (row['category2'] in specific_categories or \n",
    "            row['category3'] in specific_categories or \n",
    "            row['category4'] in specific_categories or \n",
    "            row['category5'] in specific_categories):\n",
    "            return general_category\n",
    "    return \"Прочее\"\n",
    "\n",
    "# Apply the fill_category1 function to the DataFrame\n",
    "df['category1'] = df.apply(fill_category1, axis=1)\n",
    "\n",
    "# Function to refine 'Прочее' category\n",
    "def refine_miscellaneous(row):\n",
    "    if row['category1'] == \"Прочее\":\n",
    "        if row['category2'] == \"Beauty Edits\":\n",
    "            return \"Бьюти - Макияж\"\n",
    "        elif row['category2'] == \"Home Decorative Accessories\":\n",
    "            return \"Домашний декор - Свечи и ароматы для дома\"\n",
    "        elif row['category2'] == \"Men's Edits\":\n",
    "            return \"Мужская категория\"\n",
    "        elif row['category2'] == \"Women’s Edits\":\n",
    "            if row['category3'] == \"Emirati Women’s Day\":\n",
    "                return \"Женская категория - Праздники\"\n",
    "            elif row['category3'] == \"UAE National Day Edit\":\n",
    "                return \"Женская категория - Национальные праздники\"\n",
    "            else:\n",
    "                return \"Женская категория\"\n",
    "        elif row['category2'] == \"Bloomingdale's Beauty Staff Sale\":\n",
    "            return \"Скидки и Акции - Красота\"\n",
    "        elif row['category2'] == \"Gifting & Stationery\":\n",
    "            return \"Подарки и Канцтовары\"\n",
    "        elif row['category2'] == \"Dining\":\n",
    "            return \"Обеденная посуда\"\n",
    "    return row['category1']\n",
    "\n",
    "# Apply the refine_miscellaneous function to the DataFrame\n",
    "df['category1'] = df.apply(refine_miscellaneous, axis=1)\n",
    "\n",
    "# Save the updated DataFrame\n",
    "# df.to_excel(r'C:\\Users\\Stukova_a\\Documents\\updated_categories_refined.xlsx', index=False)\n",
    "\n",
    "\n",
    "# Save the updated DataFrame\n",
    "# df.to_excel(r'C:\\Users\\Stukova_a\\Documents\\updated_categories_bloomingdales_data.xlsx', index=False)\n"
   ]
  },
  {
   "cell_type": "code",
   "execution_count": null,
   "id": "6258827b",
   "metadata": {},
   "outputs": [],
   "source": [
    "df"
   ]
  },
  {
   "cell_type": "code",
   "execution_count": null,
   "id": "131d618d",
   "metadata": {},
   "outputs": [],
   "source": [
    "others_df = df.loc[df['category1'] == 'Прочее']\n"
   ]
  },
  {
   "cell_type": "code",
   "execution_count": null,
   "id": "144369f6",
   "metadata": {},
   "outputs": [],
   "source": [
    "others_df"
   ]
  },
  {
   "cell_type": "code",
   "execution_count": null,
   "id": "b84fe4bc",
   "metadata": {},
   "outputs": [],
   "source": [
    "df.to_excel(r'C:\\Users\\Stukova_a\\Documents\\updated_categories_bloomingdales_data.xlsx', index=False)\n"
   ]
  },
  {
   "cell_type": "code",
   "execution_count": null,
   "id": "028ad0f1",
   "metadata": {},
   "outputs": [],
   "source": []
  }
 ],
 "metadata": {
  "kernelspec": {
   "display_name": "Python 3 (ipykernel)",
   "language": "python",
   "name": "python3"
  },
  "language_info": {
   "codemirror_mode": {
    "name": "ipython",
    "version": 3
   },
   "file_extension": ".py",
   "mimetype": "text/x-python",
   "name": "python",
   "nbconvert_exporter": "python",
   "pygments_lexer": "ipython3",
   "version": "3.11.5"
  }
 },
 "nbformat": 4,
 "nbformat_minor": 5
}
